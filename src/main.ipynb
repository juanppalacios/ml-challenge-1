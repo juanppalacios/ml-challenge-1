{
 "cells": [
  {
   "cell_type": "markdown",
   "metadata": {},
   "source": [
    "# KNN Recommender System Application: Missing Birds\n",
    "## Inputs\n",
    "Read in our training and testing data inputs"
   ]
  },
  {
   "cell_type": "markdown",
   "metadata": {},
   "source": []
  },
  {
   "cell_type": "code",
   "execution_count": 15,
   "metadata": {},
   "outputs": [],
   "source": [
    "#!/bin/python3\n",
    "from rich.progress import track\n",
    "\n",
    "import time\n",
    "from datetime import datetime\n",
    "\n",
    "import numpy as np\n",
    "from common import *\n",
    "\n",
    "train_set = read_input('../train/train_set.csv')\n",
    "test_set  = read_input('../test/test_set.csv')"
   ]
  },
  {
   "cell_type": "markdown",
   "metadata": {},
   "source": []
  },
  {
   "cell_type": "markdown",
   "metadata": {},
   "source": [
    "By pre-processing `train_set` and `test_set`, we can reduce the amount of noise we have to deal with."
   ]
  },
  {
   "cell_type": "code",
   "execution_count": 16,
   "metadata": {},
   "outputs": [],
   "source": [
    "#> clipping our sets\n",
    "train_set['data'] = np.clip(train_set['data'], a_min = None, a_max = 10)\n",
    "test_set['data'] = np.clip(test_set['data'], a_min = None, a_max = 10)"
   ]
  },
  {
   "cell_type": "markdown",
   "metadata": {},
   "source": [
    "## Outputs\n",
    "Now we need to create our recommend_set array, which will hold the final output"
   ]
  },
  {
   "cell_type": "code",
   "execution_count": 17,
   "metadata": {},
   "outputs": [],
   "source": [
    "recommend_set = np.zeros(test_set['data'].shape, dtype = int)"
   ]
  },
  {
   "cell_type": "markdown",
   "metadata": {},
   "source": [
    "We also need some intermediary arrays to select the 5 birds we are recommending per `test_set` sample (Note: samples are also referred to as columns from now on)."
   ]
  },
  {
   "cell_type": "code",
   "execution_count": 18,
   "metadata": {},
   "outputs": [],
   "source": [
    "k = 20\n",
    "ground_truth = 5\n",
    "\n",
    "knn_graph     = np.zeros((train_set['width'], test_set['width']), dtype = int)\n",
    "knn_index     = np.zeros((train_set['width'], k), dtype = int)\n",
    "knn_centroids = np.zeros(train_set['height'])\n"
   ]
  },
  {
   "cell_type": "markdown",
   "metadata": {},
   "source": [
    "#todo: we are still working on this script so the code is pasted below"
   ]
  },
  {
   "cell_type": "markdown",
   "metadata": {},
   "source": [
    "## KNN Algorithm\n",
    "This is our KNN algorithm along with our distance functions"
   ]
  },
  {
   "cell_type": "code",
   "execution_count": null,
   "metadata": {},
   "outputs": [],
   "source": [
    "def euclidean_distance(x, y):\n",
    "    return np.sqrt(np.sum(np.square(np.subtract(x, y))))\n",
    "\n",
    "def cosine_distance(x, y):\n",
    "    a = np.sum(np.multiply(x, y))\n",
    "    b = np.multiply( np.sqrt(np.sum( np.square(x))), np.sqrt( np.sum( np.square(y))))\n",
    "    return 1 - np.divide(a, b)\n",
    "\n",
    "def jaccard_distance(x, y):\n",
    "    a = np.sum(np.multiply(x, y))\n",
    "    b = np.add(np.sum(np.square(x)), np.sum(np.square(y)))\n",
    "    return np.divide(a, np.subtract(b, a))\n",
    "\n",
    "def absolute_difference(x, y):\n",
    "    return np.subtract(x, y)\n",
    "\n",
    "def KNN(train_set, test_sample, k):\n",
    "    neighbor_distances = np.zeros(train_set['width'])\n",
    "    nearest_neighbors  = np.zeros(train_set['width'], dtype = int)\n",
    "\n",
    "    for column in train_set['columns']:\n",
    "        neighbor_distances[column] = euclidean_distance(train_set['data'][:,column], test_sample)\n",
    "\n",
    "    nearest_index = np.argpartition(neighbor_distances, k)[:k]\n",
    "\n",
    "    # for i in range(len(neighbor_distances)):\n",
    "        # nearest_neighbors[i] = 1 if neighbor_distances[i] in neighbor_distances[nearest_index] else 0\n",
    "    for i in nearest_index:\n",
    "        nearest_neighbors[i] = 1\n",
    "\n",
    "    # print(f'nearest neighbors: {nearest_neighbors[nearest_index]}')\n",
    "    # print(f'assert sum is k = {np.sum(nearest_neighbors)}')\n",
    "    assert np.sum(nearest_neighbors) == k\n",
    "\n",
    "    return nearest_neighbors"
   ]
  },
  {
   "cell_type": "code",
   "execution_count": null,
   "metadata": {},
   "outputs": [],
   "source": [
    "# exit_value = 10\n",
    "exit_value = test_set['width'] - 1\n",
    "\n",
    "print(f'finding k nearest neighbors...') # note: 5 tc's costs 0.7856 seconds, 770 seconds for all tc's\n",
    "start = time.time()\n",
    "for column in track(test_set['columns']):\n",
    "# for column in test_set['columns']:\n",
    "    knn_graph[:,column] = KNN(train_set, test_set['data'][:,column], k)\n",
    "\n",
    "    #> find our index of all k 1's in `knn_graph` column\n",
    "    knn_index = np.argwhere(knn_graph[:,column] == 1)\n",
    "\n",
    "    #> find our centroids for all `train_set` rows\n",
    "    for row in train_set['rows']:\n",
    "        knn_centroids[row] = np.mean(train_set['data'][row, knn_index])\n",
    "\n",
    "    #> find our index of zero-values in a `test_set` column\n",
    "    test_sample_zero_index = np.where(test_set['data'][:,column] == 0)[0]\n",
    "\n",
    "    #> find index of largest values in our centroids AND that are zero in the `test_set` column\n",
    "    recommend_set_index = test_sample_zero_index[np.argpartition(-knn_centroids[test_sample_zero_index], ground_truth)[:ground_truth]]\n",
    "\n",
    "    for i in recommend_set_index:\n",
    "        recommend_set[i, column] = 1\n",
    "\n",
    "    assert np.sum(recommend_set[:,column]) == ground_truth\n",
    "\n",
    "    if column == exit_value:\n",
    "        break\n",
    "\n",
    "end = time.time()\n",
    "print(f'timelapse: {time.strftime(\"%H hours, %M minutes, %S seconds\", time.gmtime(end - start))}')\n",
    "\n",
    "#> write to our .csv file\n",
    "now = datetime.now()\n",
    "write_output(f'../out/recommend_set_{now.strftime(\"%m_%d_%H_%M_%S\")}.csv', recommend_set)\n"
   ]
  }
 ],
 "metadata": {
  "kernelspec": {
   "display_name": "Python 3",
   "language": "python",
   "name": "python3"
  },
  "language_info": {
   "codemirror_mode": {
    "name": "ipython",
    "version": 3
   },
   "file_extension": ".py",
   "mimetype": "text/x-python",
   "name": "python",
   "nbconvert_exporter": "python",
   "pygments_lexer": "ipython3",
   "version": "3.11.4"
  },
  "orig_nbformat": 4
 },
 "nbformat": 4,
 "nbformat_minor": 2
}
